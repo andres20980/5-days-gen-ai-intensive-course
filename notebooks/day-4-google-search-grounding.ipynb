{
 "cells": [
  {
   "cell_type": "markdown",
   "metadata": {
    "id": "kokPyXQaY3xI"
   },
   "source": [
    "##### Copyright 2025 Google LLC."
   ]
  },
  {
   "cell_type": "code",
   "execution_count": null,
   "metadata": {
    "cellView": "form",
    "execution": {
     "iopub.execute_input": "2025-04-02T04:45:09.667059Z",
     "iopub.status.busy": "2025-04-02T04:45:09.666409Z",
     "iopub.status.idle": "2025-04-02T04:45:09.674363Z",
     "shell.execute_reply": "2025-04-02T04:45:09.671932Z",
     "shell.execute_reply.started": "2025-04-02T04:45:09.667012Z"
    },
    "id": "StB_cTIkY1ZG",
    "jupyter": {
     "source_hidden": true
    },
    "trusted": true
   },
   "outputs": [],
   "source": [
    "# @title Licenciado bajo la Licencia Apache, Versión 2.0 (la \"Licencia\");\n",
    "# no puedes usar este archivo excepto en cumplimiento con la Licencia.\n",
    "# Puedes obtener una copia de la Licencia en\n",
    "#\n",
    "# https://www.apache.org/licenses/LICENSE-2.0\n",
    "#\n",
    "# A menos que lo requiera la ley aplicable o se acuerde por escrito, el software\n",
    "# distribuido bajo la Licencia se distribuye \"TAL CUAL\", SIN GARANTÍAS NI CONDICIONES\n",
    "# de ningún tipo, ya sean expresas o implícitas.\n",
    "# Consulta la Licencia para conocer el lenguaje específico que rige los permisos y\n",
    "# limitaciones bajo la Licencia."
   ]
  },
  {
   "cell_type": "markdown",
   "metadata": {
    "id": "q-mcOl0JY8Xg"
   },
   "source": [
    "# Día 4 - Búsqueda en Google con Grounding usando la API de Gemini\n",
    "\n",
    "¡Bienvenido de nuevo al curso de Generative AI de 5 días en Kaggle!\n",
    "\n",
    "En este notebook opcional, utilizarás los resultados de [Google Search](https://google.com/) con la API de Gemini en una técnica llamada grounding, donde el modelo se conecta a fuentes verificables de información. Usar grounding con búsqueda es similar a usar el sistema RAG que implementaste anteriormente en la semana, pero la API de Gemini automatiza gran parte del proceso por ti. El modelo genera consultas de búsqueda en Google y realiza las búsquedas automáticamente, recuperando datos relevantes del índice web de Google y proporcionando enlaces a sugerencias de búsqueda que respaldan la consulta, para que tus usuarios puedan verificar las fuentes.\n",
    "\n",
    "## Novedades en Gemini 2.0\n",
    "\n",
    "Gemini 2.0 Flash ofrece una generosa cuota de búsquedas en Google como parte del [nivel gratuito](https://ai.google.dev/pricing). Si cambias de modelo a la versión 1.5, necesitarás [habilitar la facturación](https://aistudio.google.com/apikey) para usar Grounding con Google Search, o puedes [probarlo en AI Studio](https://aistudio.google.com/). Consulta las [versiones anteriores de este notebook](https://www.kaggle.com/code/markishere/day-4-google-search-grounding?scriptVersionId=207458162) para obtener orientación."
   ]
  },
  {
   "cell_type": "markdown",
   "metadata": {},
   "source": [
    "## Opcional: Usa Google AI Studio\n",
    "\n",
    "Si deseas probar el grounding con Google Search, sigue esta sección para probarlo usando la interfaz de AI Studio. O salta a la sección `API` para probar la funcionalidad aquí en tu notebook.\n",
    "\n",
    "### Abrir AI Studio\n",
    "\n",
    "Comienza yendo a [AI Studio](https://aistudio.google.com/prompts/new_chat). Deberías estar en la interfaz de \"Nuevo chat\".\n",
    "\n",
    "El grounding de búsqueda funciona mejor con `gemini-2.0-flash`, pero también puedes probar `gemini-1.5-flash`.\n",
    "\n",
    "![Nuevo chat en AI Studio](https://storage.googleapis.com/generativeai-downloads/kaggle/ais-newchat.png)\n",
    "\n",
    "### Haz una pregunta\n",
    "\n",
    "Ahora ingresa un prompt en la interfaz de chat. Intenta preguntar algo que sea actual y que pueda requerir información reciente para responder, como el resultado de un deporte reciente. Para esta consulta, el grounding estará **deshabilitado** por defecto.\n",
    "\n",
    "Esta captura de pantalla muestra la respuesta para `¿Cuáles fueron los disfraces de Halloween más populares este año?`. Cada ejecución será diferente, pero típicamente el modelo habla sobre 2023 y da respuestas generales en lugar de respuestas específicas, ya que no tiene acceso a información específica.\n",
    "\n",
    "![Ejemplo de pregunta-respuesta sin grounding](https://storage.googleapis.com/generativeai-downloads/kaggle/cricket-ungrounded.png)\n",
    "\n",
    "### Habilitar grounding\n",
    "\n",
    "En la barra lateral derecha, en la sección `Herramientas`. Encuentra y habilita la opción `Grounding`.\n",
    "\n",
    "![Botón para habilitar grounding](https://storage.googleapis.com/generativeai-downloads/kaggle/enable-grounding.png)\n",
    "\n",
    "Ahora vuelve a ejecutar tu pregunta pasando el cursor sobre el prompt del usuario en el historial del chat y presionando el ícono de Gemini ✨ para volver a ejecutar tu prompt.\n",
    "\n",
    "![Botón para volver a ejecutar el prompt](https://storage.googleapis.com/generativeai-downloads/kaggle/re-run-button.png)\n",
    "\n",
    "Ahora deberías ver una respuesta generada que hace referencia a fuentes de Google Search.\n",
    "\n",
    "![Respuesta con fuentes fundamentadas de Google!](https://storage.googleapis.com/generativeai-downloads/kaggle/cricket-grounded.png)\n",
    "\n",
    "### Prueba tus propias consultas\n",
    "\n",
    "Explora esta interfaz y prueba otras consultas. ¡Comparte lo que funciona bien en el [Discord](https://discord.com/channels/1101210829807956100/1303438361117069363)! Puedes comenzar desde [esta plantilla en blanco](https://aistudio.google.com/app/prompts/1FZtxKLFZIJ1p_0rICu8K2CNIF1tkAnf4) que tiene el grounding de búsqueda habilitado.\n",
    "\n",
    "Los pasos restantes requieren una clave de API con facturación habilitada. No son necesarios para completar este curso; si has probado el grounding en AI Studio, has terminado con este notebook.\n"
   ]
  },
  {
   "cell_type": "markdown",
   "metadata": {
    "id": "Qcyq976Gbwpo"
   },
   "source": [
    "## Usar la API\n",
    "\n",
    "Comienza instalando e importando el SDK de Python de la API de Gemini."
   ]
  },
  {
   "cell_type": "code",
   "execution_count": null,
   "metadata": {
    "execution": {
     "iopub.execute_input": "2025-04-02T04:45:09.687140Z",
     "iopub.status.busy": "2025-04-02T04:45:09.685579Z",
     "iopub.status.idle": "2025-04-02T04:45:30.115322Z",
     "shell.execute_reply": "2025-04-02T04:45:30.113709Z",
     "shell.execute_reply.started": "2025-04-02T04:45:09.687066Z"
    },
    "id": "1ZLC4ORSbqme",
    "trusted": true
   },
   "outputs": [],
   "source": [
    "# Desinstalar paquetes de la imagen base de Kaggle que no son necesarios.\n",
    "!pip uninstall -qy jupyterlab jupyterlab-lsp\n",
    "# Instalar el SDK de google-genai para este laboratorio.\n",
    "!pip install -qU 'google-genai==1.7.0'"
   ]
  },
  {
   "cell_type": "code",
   "execution_count": 4,
   "metadata": {
    "execution": {
     "iopub.execute_input": "2025-04-02T04:45:30.118937Z",
     "iopub.status.busy": "2025-04-02T04:45:30.118373Z",
     "iopub.status.idle": "2025-04-02T04:45:31.446010Z",
     "shell.execute_reply": "2025-04-02T04:45:31.444642Z",
     "shell.execute_reply.started": "2025-04-02T04:45:30.118843Z"
    },
    "id": "FNkHtOAmbt2B",
    "trusted": true
   },
   "outputs": [
    {
     "name": "stdout",
     "output_type": "stream",
     "text": []
    }
   ],
   "source": [
    "from google import genai\n",
    "from google.genai import types\n",
    "\n",
    "from IPython.display import Markdown, HTML, display\n",
    "\n",
    "genai.__version__"
   ]
  },
  {
   "cell_type": "markdown",
   "metadata": {
    "id": "_NO9cdffb4KR"
   },
   "source": [
    "### Configura tu clave API\n",
    "\n",
    "Para ejecutar la siguiente celda, tu clave API debe estar almacenada como un [secreto de Kaggle](https://www.kaggle.com/discussions/product-feedback/114053) llamado `GOOGLE_API_KEY`.\n",
    "\n",
    "Si aún no tienes una clave API, puedes obtener una desde [AI Studio](https://aistudio.google.com/app/apikey). Puedes encontrar [instrucciones detalladas en la documentación](https://ai.google.dev/gemini-api/docs/api-key).\n",
    "\n",
    "Para hacer que la clave esté disponible a través de los secretos de Kaggle, selecciona `Secrets` en el menú `Add-ons` y sigue las instrucciones para agregar tu clave o habilitarla para este notebook."
   ]
  },
  {
   "cell_type": "code",
   "execution_count": 5,
   "metadata": {
    "execution": {
     "iopub.execute_input": "2025-04-02T04:45:31.447522Z",
     "iopub.status.busy": "2025-04-02T04:45:31.447041Z",
     "iopub.status.idle": "2025-04-02T04:45:31.714974Z",
     "shell.execute_reply": "2025-04-02T04:45:31.713974Z",
     "shell.execute_reply.started": "2025-04-02T04:45:31.447490Z"
    },
    "id": "8NAmACYHb5DK",
    "trusted": true
   },
   "outputs": [],
   "source": [
    "from kaggle_secrets import UserSecretsClient\n",
    "\n",
    "GOOGLE_API_KEY = UserSecretsClient().get_secret(\"GOOGLE_API_KEY\")\n",
    "\n",
    "client = genai.Client(api_key=GOOGLE_API_KEY)"
   ]
  },
  {
   "cell_type": "markdown",
   "metadata": {
    "id": "cfb5d41c4a03"
   },
   "source": [
    "Si recibiste un mensaje de error como `No user secrets exist for kernel id ...`, entonces necesitas agregar tu clave API a través de `Add-ons`, `Secrets` **y** habilitarla.\n",
    "\n",
    "![Captura de pantalla de la casilla para habilitar el secreto GOOGLE_API_KEY](https://storage.googleapis.com/kaggle-media/Images/5gdai_sc_3.png)"
   ]
  },
  {
   "cell_type": "markdown",
   "metadata": {},
   "source": [
    "### Automated retry"
   ]
  },
  {
   "cell_type": "code",
   "execution_count": 6,
   "metadata": {
    "execution": {
     "iopub.execute_input": "2025-04-02T04:45:31.717067Z",
     "iopub.status.busy": "2025-04-02T04:45:31.716567Z",
     "iopub.status.idle": "2025-04-02T04:45:31.724673Z",
     "shell.execute_reply": "2025-04-02T04:45:31.723366Z",
     "shell.execute_reply.started": "2025-04-02T04:45:31.717020Z"
    },
    "trusted": true
   },
   "outputs": [],
   "source": [
    "# Define a retry policy. The model might make multiple consecutive calls automatically\n",
    "# for a complex query, this ensures the client retries if it hits quota limits.\n",
    "from google.api_core import retry\n",
    "\n",
    "is_retriable = lambda e: (isinstance(e, genai.errors.APIError) and e.code in {429, 503})\n",
    "\n",
    "if not hasattr(genai.models.Models.generate_content, '__wrapped__'):\n",
    "  genai.models.Models.generate_content = retry.Retry(\n",
    "      predicate=is_retriable)(genai.models.Models.generate_content)"
   ]
  },
  {
   "cell_type": "markdown",
   "metadata": {
    "id": "Rvre6fOrcHi2"
   },
   "source": [
    "## Use search grounding\n",
    "\n",
    "### Model support\n",
    "\n",
    "Search grounding is available in a limited set of models. Find a model that supports it on [the models page](https://ai.google.dev/gemini-api/docs/models/gemini).\n",
    "\n",
    "In this guide, you'll use `gemini-2.0-flash`."
   ]
  },
  {
   "cell_type": "markdown",
   "metadata": {
    "id": "HW5RVNUierrQ"
   },
   "source": [
    "### Make a request\n",
    "\n",
    "To enable search grounding, you specify it as a tool: `google_search`. Like other tools, this is supplied as a parameter in `GenerateContentConfig`, and can be passed to `generate_content` calls as well as `chats.create` (for all chat turns) or `chat.send_message` (for specific turns).\n",
    "\n",
    "\n",
    "<table align=left>\n",
    "  <td>\n",
    "    <a target=\"_blank\" href=\"https://aistudio.google.com/app/prompts/1GTkO-gH4vd6G7LpBJ6Ay7U1OaJer7yDD\"><img src=\"https://ai.google.dev/site-assets/images/marketing/home/icon-ais.png\" style=\"height: 24px\" height=24/> Open in AI Studio</a>\n",
    "  </td>\n",
    "</table>"
   ]
  },
  {
   "cell_type": "code",
   "execution_count": 16,
   "metadata": {
    "execution": {
     "iopub.execute_input": "2025-04-02T04:45:53.540719Z",
     "iopub.status.busy": "2025-04-02T04:45:53.540283Z",
     "iopub.status.idle": "2025-04-02T04:45:55.159292Z",
     "shell.execute_reply": "2025-04-02T04:45:55.157997Z",
     "shell.execute_reply.started": "2025-04-02T04:45:53.540684Z"
    },
    "id": "JZmdaOlVfCgd",
    "trusted": true
   },
   "outputs": [
    {
     "name": "stdout",
     "output_type": "stream",
     "text": []
    }
   ],
   "source": [
    "# Ask for information without search grounding.\n",
    "response = client.models.generate_content(\n",
    "    model='gemini-2.0-flash',\n",
    "    contents=\"When and where is Billie Eilish's next concert?\")\n",
    "\n",
    "Markdown(response.text)"
   ]
  },
  {
   "cell_type": "markdown",
   "metadata": {},
   "source": [
    "Now try with grounding enabled.\n",
    "\n",
    "<table align=left>\n",
    "  <td>\n",
    "    <a target=\"_blank\" href=\"https://aistudio.google.com/prompts/14lDR0VjSni6BEUCZUBqj5PzTn3J194Th\"><img src=\"https://ai.google.dev/site-assets/images/marketing/home/icon-ais.png\" style=\"height: 24px\" height=24/> Open in AI Studio</a>\n",
    "  </td>\n",
    "</table>"
   ]
  },
  {
   "cell_type": "code",
   "execution_count": 8,
   "metadata": {
    "execution": {
     "iopub.execute_input": "2025-04-02T04:45:32.725943Z",
     "iopub.status.busy": "2025-04-02T04:45:32.725596Z",
     "iopub.status.idle": "2025-04-02T04:45:34.393323Z",
     "shell.execute_reply": "2025-04-02T04:45:34.391992Z",
     "shell.execute_reply.started": "2025-04-02T04:45:32.725902Z"
    },
    "id": "i7jqG3nww6kU",
    "trusted": true
   },
   "outputs": [
    {
     "name": "stdout",
     "output_type": "stream",
     "text": []
    }
   ],
   "source": [
    "# And now re-run the same query with search grounding enabled.\n",
    "config_with_search = types.GenerateContentConfig(\n",
    "    tools=[types.Tool(google_search=types.GoogleSearch())],\n",
    ")\n",
    "\n",
    "response = client.models.generate_content(\n",
    "    model='gemini-2.0-flash',\n",
    "    contents=\"When and where is Billie Eilish's next concert?\",\n",
    "    config=config_with_search,\n",
    ")\n",
    "\n",
    "rc = response.candidates[0]\n",
    "\n",
    "Markdown(rc.content.parts[0].text)"
   ]
  },
  {
   "cell_type": "markdown",
   "metadata": {
    "id": "SJc_0FFBgoiJ"
   },
   "source": [
    "### Response metadata\n",
    "\n",
    "When search grounding is used, the model returns extra metadata that includes links to search suggestions, supporting documents and information on how the supporting documents were used.\n",
    "\n",
    "Each \"grounding chunk\" represents information retrieved from Google Search that was used in the grounded generation request. Following the URI will take you to the source."
   ]
  },
  {
   "cell_type": "code",
   "execution_count": 9,
   "metadata": {
    "execution": {
     "iopub.execute_input": "2025-04-02T04:45:34.395099Z",
     "iopub.status.busy": "2025-04-02T04:45:34.394694Z",
     "iopub.status.idle": "2025-04-02T04:45:34.401959Z",
     "shell.execute_reply": "2025-04-02T04:45:34.400642Z",
     "shell.execute_reply.started": "2025-04-02T04:45:34.395060Z"
    },
    "id": "2P7IYMcvxtcy",
    "trusted": true
   },
   "outputs": [
    {
     "name": "stdout",
     "output_type": "stream",
     "text": []
    }
   ],
   "source": [
    "chunks = rc.grounding_metadata.grounding_chunks\n",
    "for chunk in chunks:\n",
    "    print(f'{chunk.web.title}: {chunk.web.uri}')"
   ]
  },
  {
   "cell_type": "markdown",
   "metadata": {
    "id": "ziYb2Fkjzwwx"
   },
   "source": [
    "As part of the response, there is a standalone styled HTML content block that you use to link back to relevant search suggestions related to the generation."
   ]
  },
  {
   "cell_type": "code",
   "execution_count": null,
   "metadata": {
    "id": "DQAgIGJmfxqC",
    "trusted": true
   },
   "outputs": [],
   "source": [
    "HTML(rc.grounding_metadata.search_entry_point.rendered_content)"
   ]
  },
  {
   "cell_type": "markdown",
   "metadata": {
    "id": "pJpqJopp0H0M"
   },
   "source": [
    "The `grounding_supports` in the metadata provide a way for you to correlate the grounding chunks used to the generated output text."
   ]
  },
  {
   "cell_type": "code",
   "execution_count": 11,
   "metadata": {
    "execution": {
     "iopub.execute_input": "2025-04-02T04:45:34.422224Z",
     "iopub.status.busy": "2025-04-02T04:45:34.421816Z",
     "iopub.status.idle": "2025-04-02T04:45:34.437190Z",
     "shell.execute_reply": "2025-04-02T04:45:34.435948Z",
     "shell.execute_reply.started": "2025-04-02T04:45:34.422188Z"
    },
    "id": "sHg9Yq9U0r89",
    "trusted": true
   },
   "outputs": [
    {
     "name": "stdout",
     "output_type": "stream",
     "text": []
    }
   ],
   "source": [
    "from pprint import pprint\n",
    "\n",
    "supports = rc.grounding_metadata.grounding_supports\n",
    "for support in supports:\n",
    "    pprint(support.to_json_dict())"
   ]
  },
  {
   "cell_type": "markdown",
   "metadata": {
    "id": "wkQAGyi87FGn"
   },
   "source": [
    "These supports can be used to highlight text in the response, or build tables of footnotes."
   ]
  },
  {
   "cell_type": "code",
   "execution_count": 12,
   "metadata": {
    "execution": {
     "iopub.execute_input": "2025-04-02T04:45:34.438945Z",
     "iopub.status.busy": "2025-04-02T04:45:34.438575Z",
     "iopub.status.idle": "2025-04-02T04:45:34.457388Z",
     "shell.execute_reply": "2025-04-02T04:45:34.455988Z",
     "shell.execute_reply.started": "2025-04-02T04:45:34.438904Z"
    },
    "id": "9_dEINt43C62",
    "trusted": true
   },
   "outputs": [
    {
     "name": "stdout",
     "output_type": "stream",
     "text": []
    }
   ],
   "source": [
    "import io\n",
    "\n",
    "markdown_buffer = io.StringIO()\n",
    "\n",
    "# Print the text with footnote markers.\n",
    "markdown_buffer.write(\"Supported text:\\n\\n\")\n",
    "for support in supports:\n",
    "    markdown_buffer.write(\" * \")\n",
    "    markdown_buffer.write(\n",
    "        response.text[support.segment.start_index : support.segment.end_index]\n",
    "    )\n",
    "\n",
    "    for i in support.grounding_chunk_indices:\n",
    "        chunk = chunks[i].web\n",
    "        markdown_buffer.write(f\"<sup>[{i+1}]</sup>\")\n",
    "\n",
    "    markdown_buffer.write(\"\\n\\n\")\n",
    "\n",
    "\n",
    "# And print the footnotes.\n",
    "markdown_buffer.write(\"Citations:\\n\\n\")\n",
    "for i, chunk in enumerate(chunks, start=1):\n",
    "    markdown_buffer.write(f\"{i}. [{chunk.web.title}]({chunk.web.uri})\\n\")\n",
    "\n",
    "\n",
    "Markdown(markdown_buffer.getvalue())"
   ]
  },
  {
   "cell_type": "markdown",
   "metadata": {},
   "source": [
    "## Search with tools\n",
    "\n",
    "In this example, you'll use enable the Google Search grounding tool and the code generation tool across two steps. In the first step, the model will use Google Search to find the requested information and then in the follow-up question, it generates code to plot the results.\n",
    "\n",
    "This usage includes textual, visual and code parts, so first define a function to help visualise these."
   ]
  },
  {
   "cell_type": "code",
   "execution_count": 13,
   "metadata": {
    "execution": {
     "iopub.execute_input": "2025-04-02T04:45:34.460633Z",
     "iopub.status.busy": "2025-04-02T04:45:34.460247Z",
     "iopub.status.idle": "2025-04-02T04:45:34.478706Z",
     "shell.execute_reply": "2025-04-02T04:45:34.477229Z",
     "shell.execute_reply.started": "2025-04-02T04:45:34.460598Z"
    },
    "trusted": true
   },
   "outputs": [],
   "source": [
    "from IPython.display import display, Image, Markdown\n",
    "\n",
    "def show_response(response):\n",
    "    for p in response.candidates[0].content.parts:\n",
    "        if p.text:\n",
    "            display(Markdown(p.text))\n",
    "        elif p.inline_data:\n",
    "            display(Image(p.inline_data.data))\n",
    "        else:\n",
    "            print(p.to_json_dict())\n",
    "    \n",
    "        display(Markdown('----'))"
   ]
  },
  {
   "cell_type": "markdown",
   "metadata": {},
   "source": [
    "Now start a chat asking for some information. Here you provide the Google Search tool so that the model can look up data from Google's Search index."
   ]
  },
  {
   "cell_type": "code",
   "execution_count": 14,
   "metadata": {
    "execution": {
     "iopub.execute_input": "2025-04-02T04:45:34.481495Z",
     "iopub.status.busy": "2025-04-02T04:45:34.480689Z",
     "iopub.status.idle": "2025-04-02T04:45:37.065481Z",
     "shell.execute_reply": "2025-04-02T04:45:37.064186Z",
     "shell.execute_reply.started": "2025-04-02T04:45:34.481454Z"
    },
    "trusted": true
   },
   "outputs": [
    {
     "name": "stdout",
     "output_type": "stream",
     "text": []
    },
    {
     "name": "stdout",
     "output_type": "stream",
     "text": []
    }
   ],
   "source": [
    "config_with_search = types.GenerateContentConfig(\n",
    "    tools=[types.Tool(google_search=types.GoogleSearch())],\n",
    "    temperature=0.0,\n",
    ")\n",
    "\n",
    "chat = client.chats.create(model='gemini-2.0-flash')\n",
    "\n",
    "response = chat.send_message(\n",
    "    message=\"What were the medal tallies, by top-10 countries, for the 2024 olympics?\",\n",
    "    config=config_with_search,\n",
    ")\n",
    "\n",
    "show_response(response)"
   ]
  },
  {
   "cell_type": "markdown",
   "metadata": {},
   "source": [
    "Continuing the chat, now ask the model to convert the data into a chart. The `code_execution` tool is able to generate code to draw charts, execute that code and return the image. You can see the executed code in the `executable_code` part of the response.\n",
    "\n",
    "Combining results from Google Search with tools like live plotting can enable very powerful use cases that require very little code to run."
   ]
  },
  {
   "cell_type": "code",
   "execution_count": 15,
   "metadata": {
    "execution": {
     "iopub.execute_input": "2025-04-02T04:45:37.067321Z",
     "iopub.status.busy": "2025-04-02T04:45:37.066986Z",
     "iopub.status.idle": "2025-04-02T04:45:44.393076Z",
     "shell.execute_reply": "2025-04-02T04:45:44.391934Z",
     "shell.execute_reply.started": "2025-04-02T04:45:37.067282Z"
    },
    "trusted": true
   },
   "outputs": [
    {
     "name": "stdout",
     "output_type": "stream",
     "text": []
    },
    {
     "name": "stdout",
     "output_type": "stream",
     "text": []
    },
    {
     "name": "stdout",
     "output_type": "stream",
     "text": []
    },
    {
     "name": "stdout",
     "output_type": "stream",
     "text": []
    },
    {
     "name": "stdout",
     "output_type": "stream",
     "text": []
    },
    {
     "name": "stdout",
     "output_type": "stream",
     "text": []
    },
    {
     "name": "stdout",
     "output_type": "stream",
     "text": []
    },
    {
     "name": "stdout",
     "output_type": "stream",
     "text": []
    }
   ],
   "source": [
    "config_with_code = types.GenerateContentConfig(\n",
    "    tools=[types.Tool(code_execution=types.ToolCodeExecution())],\n",
    "    temperature=0.0,\n",
    ")\n",
    "\n",
    "response = chat.send_message(\n",
    "    message=\"Now plot this as a seaborn chart. Break out the medals too.\",\n",
    "    config=config_with_code,\n",
    ")\n",
    "\n",
    "show_response(response)"
   ]
  },
  {
   "cell_type": "markdown",
   "metadata": {
    "id": "Cp7gvdM-zOf0"
   },
   "source": [
    "## Further reading\n",
    "\n",
    "When using search grounding, there are some specific requirements that you must follow, including when and how to show search suggestions, and how to use the grounding links.  Be sure to read and follow the details in the [search grounding capability guide](https://ai.google.dev/gemini-api/docs/grounding) and the [search suggestions guide](https://ai.google.dev/gemini-api/docs/grounding/search-suggestions).\n",
    "\n",
    "Also check out some more compelling examples of using search grounding with the Live API in the [cookbook](https://github.com/google-gemini/cookbook/), like [this example that uses Google Maps to plot Search results on a map](https://github.com/google-gemini/cookbook/blob/main/examples/LiveAPI_plotting_and_mapping.ipynb) in an audio conversation, or [this example](https://github.com/google-gemini/cookbook/blob/main/examples/Search_grounding_for_research_report.ipynb) that builds a comprehensive research report.\n",
    "\n",
    "*- [Mark McD](https://linktr.ee/markmcd)*"
   ]
  }
 ],
 "metadata": {
  "colab": {
   "name": "day-4-google-search-grounding.ipynb",
   "toc_visible": true
  },
  "kaggle": {
   "accelerator": "none",
   "dataSources": [],
   "dockerImageVersionId": 30786,
   "isGpuEnabled": false,
   "isInternetEnabled": true,
   "language": "python",
   "sourceType": "notebook"
  },
  "kernelspec": {
   "display_name": "Python 3",
   "language": "python",
   "name": "python3"
  },
  "language_info": {
   "codemirror_mode": {
    "name": "ipython",
    "version": 3
   },
   "file_extension": ".py",
   "mimetype": "text/x-python",
   "name": "python",
   "nbconvert_exporter": "python",
   "pygments_lexer": "ipython3",
   "version": "3.10.14"
  }
 },
 "nbformat": 4,
 "nbformat_minor": 4
}
