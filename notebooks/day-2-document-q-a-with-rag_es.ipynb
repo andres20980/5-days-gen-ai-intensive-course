{
 "cells": [
  {
   "cell_type": "markdown",
   "metadata": {
    "id": "Tce3stUlHN0L"
   },
   "source": [
    "##### Copyright 2025 Google LLC."
   ]
  },
  {
   "cell_type": "code",
   "execution_count": null,
   "metadata": {
    "cellView": "form",
    "execution": {
     "iopub.execute_input": "2025-03-31T10:16:36.652127Z",
     "iopub.status.busy": "2025-03-31T10:16:36.651458Z",
     "iopub.status.idle": "2025-03-31T10:16:36.658808Z",
     "shell.execute_reply": "2025-03-31T10:16:36.657348Z",
     "shell.execute_reply.started": "2025-03-31T10:16:36.652068Z"
    },
    "id": "tuOe1ymfHZPu",
    "jupyter": {
     "source_hidden": true
    }
   },
   "outputs": [],
   "source": [
    "# @title Licenciado bajo la Licencia Apache, Versión 2.0 (la \"Licencia\");\n",
    "# no puedes usar este archivo excepto en cumplimiento con la Licencia.\n",
    "# Puedes obtener una copia de la Licencia en\n",
    "#\n",
    "# https://www.apache.org/licenses/LICENSE-2.0\n",
    "#\n",
    "# A menos que lo requiera la ley aplicable o se acuerde por escrito, el software\n",
    "# distribuido bajo la Licencia se distribuye \"TAL CUAL\",\n",
    "# SIN GARANTÍAS NI CONDICIONES DE NINGÚN TIPO, ya sean expresas o implícitas.\n",
    "# Consulta la Licencia para conocer el lenguaje específico que rige los permisos y\n",
    "# limitaciones bajo la Licencia."
   ]
  },
  {
   "cell_type": "markdown",
   "metadata": {
    "id": "CsVPnR8VbXE6"
   },
   "source": [
    "# Día 2 - Preguntas y Respuestas con Documentos usando RAG y Chroma\n",
    "\n",
    "¡Bienvenido de nuevo al curso de 5 días de IA Generativa en Kaggle!\n",
    "\n",
    "**NOTA**: El cuaderno del Día 1 contiene mucha información para configurar los cuadernos de Kaggle. Si tienes algún problema, por favor [consulta los pasos de solución de problemas allí](https://www.kaggle.com/code/markishere/day-1-prompting#Get-started-with-Kaggle-notebooks).\n",
    "\n",
    "Dos grandes limitaciones de los LLMs son 1) que solo \"conocen\" la información con la que fueron entrenados, y 2) que tienen ventanas de contexto de entrada limitadas. Una forma de abordar ambas limitaciones es usar una técnica llamada Generación Aumentada con Recuperación, o RAG. Un sistema RAG tiene tres etapas:\n",
    "\n",
    "1. Indexación\n",
    "2. Recuperación\n",
    "3. Generación\n",
    "\n",
    "La indexación ocurre con anticipación y te permite buscar información relevante rápidamente en el momento de la consulta. Cuando llega una consulta, recuperas documentos relevantes, los combinas con tus instrucciones y la consulta del usuario, y haces que el LLM genere una respuesta personalizada en lenguaje natural utilizando la información proporcionada. Esto te permite proporcionar información que el modelo no ha visto antes, como conocimiento específico de productos o actualizaciones meteorológicas en vivo.\n",
    "\n",
    "En este cuaderno usarás la API de Gemini para crear una base de datos vectorial, recuperar respuestas a preguntas desde la base de datos y generar una respuesta final. Usarás [Chroma](https://docs.trychroma.com/), una base de datos vectorial de código abierto. Con Chroma, puedes almacenar embeddings junto con metadatos, incrustar documentos y consultas, y buscar en tus documentos.\n",
    "\n",
    "## Para ayuda\n",
    "\n",
    "**Los problemas comunes están cubiertos en la [guía de preguntas frecuentes y solución de problemas](https://www.kaggle.com/code/markishere/day-0-troubleshooting-and-faqs).**\n"
   ]
  },
  {
   "cell_type": "markdown",
   "metadata": {
    "id": "akuOzK4dJl3j"
   },
   "source": [
    "## Configuración\n",
    "\n",
    "Primero, instala ChromaDB y el SDK de Python de la API de Gemini."
   ]
  },
  {
   "cell_type": "code",
   "execution_count": null,
   "metadata": {
    "execution": {
     "iopub.execute_input": "2025-03-31T10:16:36.661311Z",
     "iopub.status.busy": "2025-03-31T10:16:36.660907Z",
     "iopub.status.idle": "2025-03-31T10:16:49.935275Z",
     "shell.execute_reply": "2025-03-31T10:16:49.933397Z",
     "shell.execute_reply.started": "2025-03-31T10:16:36.661277Z"
    },
    "id": "JbXe7Oodc5dP"
   },
   "outputs": [],
   "source": [
    "!pip uninstall -qqy jupyterlab kfp  # Elimina paquetes conflictivos no utilizados\n",
    "!pip install -qU \"google-genai==1.7.0\" \"chromadb==0.6.3\""
   ]
  },
  {
   "cell_type": "code",
   "execution_count": 15,
   "metadata": {
    "execution": {
     "iopub.execute_input": "2025-03-31T10:16:49.937544Z",
     "iopub.status.busy": "2025-03-31T10:16:49.937134Z",
     "iopub.status.idle": "2025-03-31T10:16:49.946481Z",
     "shell.execute_reply": "2025-03-31T10:16:49.945312Z",
     "shell.execute_reply.started": "2025-03-31T10:16:49.937504Z"
    },
    "id": "muuhsDmmKdHi"
   },
   "outputs": [
    {
     "data": {
      "text/plain": [
       "'1.7.0'"
      ]
     },
     "execution_count": 15,
     "metadata": {},
     "output_type": "execute_result"
    }
   ],
   "source": [
    "from google import genai\n",
    "from google.genai import types\n",
    "\n",
    "from IPython.display import Markdown\n",
    "\n",
    "genai.__version__"
   ]
  },
  {
   "cell_type": "markdown",
   "metadata": {
    "id": "FQOGMejVu-6D"
   },
   "source": [
    "### Configura tu clave API\n",
    "\n",
    "Para ejecutar la siguiente celda, tu clave API debe estar almacenada en un [secreto de Kaggle](https://www.kaggle.com/discussions/product-feedback/114053) llamado `GOOGLE_API_KEY`.\n",
    "\n",
    "Si aún no tienes una clave API, puedes obtener una desde [AI Studio](https://aistudio.google.com/app/apikey). Puedes encontrar [instrucciones detalladas en la documentación](https://ai.google.dev/gemini-api/docs/api-key).\n",
    "\n",
    "Para hacer que la clave esté disponible a través de secretos de Kaggle, elige `Secrets` desde el menú `Add-ons` y sigue las instrucciones para agregar tu clave o habilitarla para este cuaderno."
   ]
  },
  {
   "cell_type": "code",
   "execution_count": 16,
   "metadata": {
    "execution": {
     "iopub.execute_input": "2025-03-31T10:16:49.949215Z",
     "iopub.status.busy": "2025-03-31T10:16:49.948797Z",
     "iopub.status.idle": "2025-03-31T10:16:50.118845Z",
     "shell.execute_reply": "2025-03-31T10:16:50.117652Z",
     "shell.execute_reply.started": "2025-03-31T10:16:49.949169Z"
    },
    "id": "ysayz8skEfBW"
   },
   "outputs": [],
   "source": [
    "from kaggle_secrets import UserSecretsClient\n",
    "\n",
    "GOOGLE_API_KEY = UserSecretsClient().get_secret(\"GOOGLE_API_KEY\")"
   ]
  },
  {
   "cell_type": "markdown",
   "metadata": {
    "id": "52b101760a45"
   },
   "source": [
    "Si recibiste un mensaje de error como `No user secrets exist for kernel id ...`, entonces necesitas agregar tu clave API a través de `Add-ons`, `Secrets` **y** habilitarla.\n",
    "\n",
    "![Captura de pantalla de la casilla para habilitar el secreto GOOGLE_API_KEY](https://storage.googleapis.com/kaggle-media/Images/5gdai_sc_3.png)"
   ]
  },
  {
   "cell_type": "markdown",
   "metadata": {
    "id": "fegnGFpMS4AI"
   },
   "source": [
    "### Explora los modelos disponibles\n",
    "\n",
    "Usarás el método de API [`embedContent`](https://ai.google.dev/api/embeddings#method:-models.embedcontent) para calcular embeddings en esta guía. Encuentra un modelo que lo soporte a través del endpoint [`models.list`](https://ai.google.dev/api/models#method:-models.list). También puedes encontrar más información sobre los modelos de embeddings en [la página de modelos](https://ai.google.dev/gemini-api/docs/models/gemini#text-embedding).\n",
    "\n",
    "`text-embedding-004` es el modelo de embeddings más reciente disponible en general, por lo que lo usarás para este ejercicio, pero también prueba el modelo experimental `gemini-embedding-exp-03-07`."
   ]
  },
  {
   "cell_type": "code",
   "execution_count": 17,
   "metadata": {
    "execution": {
     "iopub.execute_input": "2025-03-31T10:16:50.120623Z",
     "iopub.status.busy": "2025-03-31T10:16:50.120293Z",
     "iopub.status.idle": "2025-03-31T10:16:50.227307Z",
     "shell.execute_reply": "2025-03-31T10:16:50.225849Z",
     "shell.execute_reply.started": "2025-03-31T10:16:50.120592Z"
    },
    "id": "Km5d13_FS2Q_"
   },
   "outputs": [
    {
     "name": "stdout",
     "output_type": "stream",
     "text": [
      "models/embedding-001\n",
      "models/text-embedding-004\n",
      "models/gemini-embedding-exp-03-07\n",
      "models/gemini-embedding-exp\n"
     ]
    }
   ],
   "source": [
    "client = genai.Client(api_key=GOOGLE_API_KEY)\n",
    "\n",
    "for m in client.models.list():\n",
    "    if \"embedContent\" in m.supported_actions:\n",
    "        print(m.name)"
   ]
  },
  {
   "cell_type": "markdown",
   "metadata": {
    "id": "3XWKXoXwOGxS"
   },
   "source": [
    "### Datos\n",
    "\n",
    "Aquí tienes un pequeño conjunto de documentos que usarás para crear una base de datos de embeddings."
   ]
  },
  {
   "cell_type": "code",
   "execution_count": null,
   "metadata": {
    "execution": {
     "iopub.execute_input": "2025-03-31T10:16:50.229159Z",
     "iopub.status.busy": "2025-03-31T10:16:50.228790Z",
     "iopub.status.idle": "2025-03-31T10:16:50.236403Z",
     "shell.execute_reply": "2025-03-31T10:16:50.234812Z",
     "shell.execute_reply.started": "2025-03-31T10:16:50.229123Z"
    },
    "id": "k8nsbhFJKmG-"
   },
   "outputs": [],
   "source": [
    "DOCUMENT1 = \"Operación del Sistema de Control de Clima  Tu Googlecar tiene un sistema de control de clima que te permite ajustar la temperatura y el flujo de aire en el coche. Para operar el sistema de control de clima, usa los botones y perillas ubicados en la consola central.  Temperatura: La perilla de temperatura controla la temperatura dentro del coche. Gira la perilla en el sentido de las agujas del reloj para aumentar la temperatura o en sentido contrario para disminuirla. Flujo de aire: La perilla de flujo de aire controla la cantidad de flujo de aire dentro del coche. Gira la perilla en el sentido de las agujas del reloj para aumentar el flujo de aire o en sentido contrario para disminuirlo. Velocidad del ventilador: La perilla de velocidad del ventilador controla la velocidad del ventilador. Gira la perilla en el sentido de las agujas del reloj para aumentar la velocidad del ventilador o en sentido contrario para disminuirla. Modo: El botón de modo te permite seleccionar el modo deseado. Los modos disponibles son: Auto: El coche ajustará automáticamente la temperatura y el flujo de aire para mantener un nivel cómodo. Cool: El coche soplará aire fresco en el coche. Heat: El coche soplará aire caliente en el coche. Defrost: El coche soplará aire caliente en el parabrisas para descongelarlo.\"\n",
    "DOCUMENT2 = 'Tu Googlecar tiene una gran pantalla táctil que proporciona acceso a una variedad de funciones, incluyendo navegación, entretenimiento y control de clima. Para usar la pantalla táctil, simplemente toca el ícono deseado.  Por ejemplo, puedes tocar el ícono de \"Navegación\" para obtener direcciones a tu destino o tocar el ícono de \"Música\" para reproducir tus canciones favoritas.'\n",
    "DOCUMENT3 = \"Cambio de Marchas Tu Googlecar tiene una transmisión automática. Para cambiar de marcha, simplemente mueve la palanca de cambios a la posición deseada.  Park: Esta posición se usa cuando estás estacionado. Las ruedas están bloqueadas y el coche no puede moverse. Reverse: Esta posición se usa para retroceder. Neutral: Esta posición se usa cuando estás detenido en un semáforo o en el tráfico. El coche no está en marcha y no se moverá a menos que presiones el pedal del acelerador. Drive: Esta posición se usa para avanzar. Low: Esta posición se usa para conducir en nieve u otras condiciones resbaladizas.\"\n",
    "\n",
    "documents = [DOCUMENT1, DOCUMENT2, DOCUMENT3]"
   ]
  },
  {
   "cell_type": "markdown",
   "metadata": {
    "id": "yDzxArLeOexD"
   },
   "source": [
    "## Creando la base de datos de embeddings con ChromaDB\n",
    "\n",
    "Crea una [función personalizada](https://docs.trychroma.com/guides/embeddings#custom-embedding-functions) para generar embeddings con la API de Gemini. En esta tarea, estás implementando un sistema de recuperación, por lo que el `task_type` para generar los embeddings de *documentos* es `retrieval_document`. Más adelante, usarás `retrieval_query` para los embeddings de *consultas*. Consulta la [referencia de la API](https://ai.google.dev/api/embeddings#v1beta.TaskType) para la lista completa de tareas soportadas.\n",
    "\n",
    "Palabras clave: Los documentos son los elementos que están en la base de datos. Se insertan primero y luego se recuperan. Las consultas son los términos de búsqueda textuales y pueden ser palabras clave simples o descripciones textuales de los documentos deseados."
   ]
  },
  {
   "cell_type": "code",
   "execution_count": null,
   "metadata": {
    "execution": {
     "iopub.execute_input": "2025-03-31T10:16:50.239046Z",
     "iopub.status.busy": "2025-03-31T10:16:50.238448Z",
     "iopub.status.idle": "2025-03-31T10:16:50.251166Z",
     "shell.execute_reply": "2025-03-31T10:16:50.250044Z",
     "shell.execute_reply.started": "2025-03-31T10:16:50.238957Z"
    },
    "id": "mF7Uu1kCQsT0"
   },
   "outputs": [],
   "source": [
    "from chromadb import Documents, EmbeddingFunction, Embeddings\n",
    "from google.api_core import retry\n",
    "\n",
    "from google.genai import types\n",
    "\n",
    "\n",
    "# Define un ayudante para reintentar cuando se alcance la cuota por minuto.\n",
    "is_retriable = lambda e: (isinstance(e, genai.errors.APIError) y e.code en {429, 503})\n",
    "\n",
    "\n",
    "class GeminiEmbeddingFunction(EmbeddingFunction):\n",
    "    # Especifica si generar embeddings para documentos o consultas\n",
    "    document_mode = True\n",
    "\n",
    "    @retry.Retry(predicate=is_retriable)\n",
    "    def __call__(self, input: Documents) -> Embeddings:\n",
    "        if self.document_mode:\n",
    "            embedding_task = \"retrieval_document\"\n",
    "        else:\n",
    "            embedding_task = \"retrieval_query\"\n",
    "\n",
    "        response = client.models.embed_content(\n",
    "            model=\"models/text-embedding-004\",\n",
    "            contents=input,\n",
    "            config=types.EmbedContentConfig(\n",
    "                task_type=embedding_task,\n",
    "            ),\n",
    "        )\n",
    "        return [e.values for e in response.embeddings]"
   ]
  },
  {
   "cell_type": "markdown",
   "metadata": {
    "id": "HrDWLyopPNBf"
   },
   "source": [
    "Ahora crea un [cliente de base de datos Chroma](https://docs.trychroma.com/getting-started) que use la `GeminiEmbeddingFunction` y llena la base de datos con los documentos que definiste anteriormente."
   ]
  },
  {
   "cell_type": "code",
   "execution_count": 20,
   "metadata": {
    "execution": {
     "iopub.execute_input": "2025-03-31T10:16:50.253935Z",
     "iopub.status.busy": "2025-03-31T10:16:50.252971Z",
     "iopub.status.idle": "2025-03-31T10:16:50.502306Z",
     "shell.execute_reply": "2025-03-31T10:16:50.501198Z",
     "shell.execute_reply.started": "2025-03-31T10:16:50.253884Z"
    },
    "id": "OITXgxZlLoXU"
   },
   "outputs": [],
   "source": [
    "import chromadb\n",
    "\n",
    "DB_NAME = \"googlecardb\"\n",
    "\n",
    "embed_fn = GeminiEmbeddingFunction()\n",
    "embed_fn.document_mode = True\n",
    "\n",
    "chroma_client = chromadb.Client()\n",
    "db = chroma_client.get_or_create_collection(name=DB_NAME, embedding_function=embed_fn)\n",
    "\n",
    "db.add(documents=documents, ids=[str(i) for i in range(len(documents))])"
   ]
  },
  {
   "cell_type": "markdown",
   "metadata": {
    "id": "2QbwFgfXp-fL"
   },
   "source": [
    "Confirma que los datos fueron insertados mirando la base de datos."
   ]
  },
  {
   "cell_type": "code",
   "execution_count": null,
   "metadata": {
    "execution": {
     "iopub.execute_input": "2025-03-31T10:16:50.504826Z",
     "iopub.status.busy": "2025-03-31T10:16:50.503897Z",
     "iopub.status.idle": "2025-03-31T10:16:50.516278Z",
     "shell.execute_reply": "2025-03-31T10:16:50.514808Z",
     "shell.execute_reply.started": "2025-03-31T10:16:50.504775Z"
    },
    "id": "kQ9PHUL_l-hf"
   },
   "outputs": [
    {
     "data": {
      "text/plain": [
       "3"
      ]
     },
     "execution_count": 21,
     "metadata": {},
     "output_type": "execute_result"
    }
   ],
   "source": [
    "db.count()\n",
    "# También puedes echar un vistazo a los datos.\n",
    "# db.peek(1)"
   ]
  },
  {
   "cell_type": "markdown",
   "metadata": {
    "id": "Tu5zRErgsQ8u"
   },
   "source": [
    "## Recuperación: Encuentra documentos relevantes\n",
    "\n",
    "Para buscar en la base de datos de Chroma, llama al método `query`. Ten en cuenta que también cambias al modo `retrieval_query` de generación de embeddings.\n"
   ]
  },
  {
   "cell_type": "code",
   "execution_count": null,
   "metadata": {
    "execution": {
     "iopub.execute_input": "2025-03-31T10:16:50.529481Z",
     "iopub.status.busy": "2025-03-31T10:16:50.528639Z",
     "iopub.status.idle": "2025-03-31T10:16:50.754710Z",
     "shell.execute_reply": "2025-03-31T10:16:50.753363Z",
     "shell.execute_reply.started": "2025-03-31T10:16:50.529442Z"
    },
    "id": "gQdJMbTSLtKE"
   },
   "outputs": [
    {
     "data": {
      "text/markdown": [
       "Your Googlecar has a large touchscreen display that provides access to a variety of features, including navigation, entertainment, and climate control. To use the touchscreen display, simply touch the desired icon.  For example, you can touch the \"Navigation\" icon to get directions to your destination or touch the \"Music\" icon to play your favorite songs."
      ],
      "text/plain": [
       "<IPython.core.display.Markdown object>"
      ]
     },
     "execution_count": 22,
     "metadata": {},
     "output_type": "execute_result"
    }
   ],
   "source": [
    "# Cambia al modo de consulta al generar embeddings.\n",
    "embed_fn.document_mode = False\n",
    "\n",
    "# Busca en la base de datos de Chroma usando la consulta especificada.\n",
    "query = \"¿Cómo usas la pantalla táctil para reproducir música?\"\n",
    "\n",
    "result = db.query(query_texts=[query], n_results=1)\n",
    "[all_passages] = result[\"documents\"]\n",
    "\n",
    "Markdown(all_passages[0])"
   ]
  },
  {
   "cell_type": "markdown",
   "metadata": {
    "id": "s8PNRMpOQkm5"
   },
   "source": [
    "## Generación aumentada: Responde la pregunta\n",
    "\n",
    "Ahora que has encontrado un pasaje relevante del conjunto de documentos (el paso de *recuperación*), ahora puedes ensamblar un prompt de generación para que la API de Gemini *genere* una respuesta final. Ten en cuenta que en este ejemplo solo se recuperó un pasaje. En la práctica, especialmente cuando el tamaño de tus datos subyacentes es grande, querrás recuperar más de un resultado y dejar que el modelo de Gemini determine qué pasajes son relevantes para responder la pregunta. Por esta razón, está bien si algunos pasajes recuperados no están directamente relacionados con la pregunta: este paso de generación debería ignorarlos."
   ]
  },
  {
   "cell_type": "code",
   "execution_count": null,
   "metadata": {
    "execution": {
     "iopub.execute_input": "2025-03-31T10:16:50.756448Z",
     "iopub.status.busy": "2025-03-31T10:16:50.756108Z",
     "iopub.status.idle": "2025-03-31T10:16:50.764894Z",
     "shell.execute_reply": "2025-03-31T10:16:50.763356Z",
     "shell.execute_reply.started": "2025-03-31T10:16:50.756418Z"
    },
    "id": "b6_Y-GOymaXu"
   },
   "outputs": [
    {
     "name": "stdout",
     "output_type": "stream",
     "text": [
      "You are a helpful and informative bot that answers questions using text from the reference passage included below. \n",
      "Be sure to respond in a complete sentence, being comprehensive, including all relevant background information. \n",
      "However, you are talking to a non-technical audience, so be sure to break down complicated concepts and \n",
      "strike a friendly and converstional tone. If the passage is irrelevant to the answer, you may ignore it.\n",
      "\n",
      "QUESTION: How do you use the touchscreen to play music?\n",
      "PASSAGE: Your Googlecar has a large touchscreen display that provides access to a variety of features, including navigation, entertainment, and climate control. To use the touchscreen display, simply touch the desired icon.  For example, you can touch the \"Navigation\" icon to get directions to your destination or touch the \"Music\" icon to play your favorite songs.\n",
      "\n"
     ]
    }
   ],
   "source": [
    "query_oneline = query.replace(\"\\n\", \" \")\n",
    "\n",
    "# Este prompt es donde puedes especificar cualquier orientación sobre el tono, o qué temas debe seguir o evitar el modelo.\n",
    "prompt = f\"\"\"Eres un bot útil e informativo que responde preguntas usando texto del pasaje de referencia incluido a continuación. \n",
    "Asegúrate de responder en una oración completa, siendo comprensivo, incluyendo toda la información de fondo relevante. \n",
    "Sin embargo, estás hablando con una audiencia no técnica, así que asegúrate de desglosar conceptos complicados y \n",
    "mantener un tono amigable y conversacional. Si el pasaje es irrelevante para la respuesta, puedes ignorarlo.\n",
    "\n",
    "PREGUNTA: {query_oneline}\n",
    "\"\"\"\n",
    "\n",
    "# Agrega los documentos recuperados al prompt.\n",
    "for passage in all_passages:\n",
    "    passage_oneline = passage.replace(\"\\n\", \" \")\n",
    "    prompt += f\"PASAJES: {passage_oneline}\\n\"\n",
    "\n",
    "print(prompt)"
   ]
  },
  {
   "cell_type": "markdown",
   "metadata": {
    "id": "VRy6yXzcPxLB"
   },
   "source": [
    "Ahora usa el método `generate_content` para generar una respuesta a la pregunta."
   ]
  },
  {
   "cell_type": "code",
   "execution_count": 24,
   "metadata": {
    "execution": {
     "iopub.execute_input": "2025-03-31T10:16:50.766776Z",
     "iopub.status.busy": "2025-03-31T10:16:50.766357Z",
     "iopub.status.idle": "2025-03-31T10:16:51.305502Z",
     "shell.execute_reply": "2025-03-31T10:16:51.304106Z",
     "shell.execute_reply.started": "2025-03-31T10:16:50.766740Z"
    },
    "id": "EwfyxFM6Giy9"
   },
   "outputs": [
    {
     "data": {
      "text/markdown": [
       "To play your favorite songs on the touchscreen display in your Googlecar, simply touch the \"Music\" icon, which will then allow you to access your favorite songs.\n"
      ],
      "text/plain": [
       "<IPython.core.display.Markdown object>"
      ]
     },
     "execution_count": 24,
     "metadata": {},
     "output_type": "execute_result"
    }
   ],
   "source": [
    "answer = client.models.generate_content(\n",
    "    model=\"gemini-2.0-flash\",\n",
    "    contents=prompt)\n",
    "\n",
    "Markdown(answer.text)"
   ]
  },
  {
   "cell_type": "markdown",
   "metadata": {
    "id": "ThTbjAJ7eGP5"
   },
   "source": [
    "## Próximos pasos\n",
    "\n",
    "¡Felicidades por construir una aplicación de Generación Aumentada con Recuperación!\n",
    "\n",
    "Para aprender más sobre el uso de embeddings en la API de Gemini, consulta la [Introducción a los embeddings](https://ai.google.dev/gemini-api/docs/embeddings) o para aprender más fundamentos, estudia el [capítulo de embeddings](https://developers.google.com/machine-learning/crash-course/embeddings) del Curso Intensivo de Aprendizaje Automático.\n",
    "\n",
    "Para un sistema RAG alojado, consulta el [servicio de Recuperación Semántica](https://ai.google.dev/gemini-api/docs/semantic_retrieval) en la API de Gemini. Puedes implementar preguntas y respuestas en tus propios documentos en una sola solicitud, o alojar una base de datos para respuestas aún más rápidas.\n",
    "\n",
    "*- [Mark McD](https://linktr.ee/markmcd)*"
   ]
  }
 ],
 "metadata": {
  "colab": {
   "name": "day-2-document-q-a-with-rag.ipynb",
   "toc_visible": true
  },
  "kaggle": {
   "accelerator": "none",
   "dataSources": [],
   "dockerImageVersionId": 30786,
   "isGpuEnabled": false,
   "isInternetEnabled": true,
   "language": "python",
   "sourceType": "notebook"
  },
  "kernelspec": {
   "display_name": "Python 3",
   "language": "python",
   "name": "python3"
  },
  "language_info": {
   "codemirror_mode": {
    "name": "ipython",
    "version": 3
   },
   "file_extension": ".py",
   "mimetype": "text/x-python",
   "name": "python",
   "nbconvert_exporter": "python",
   "pygments_lexer": "ipython3",
   "version": "3.10.14"
  }
 },
 "nbformat": 4,
 "nbformat_minor": 4
}
